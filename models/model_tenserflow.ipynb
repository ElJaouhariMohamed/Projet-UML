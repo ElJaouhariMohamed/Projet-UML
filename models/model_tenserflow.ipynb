{
 "cells": [
  {
   "cell_type": "code",
   "execution_count": 7,
   "metadata": {},
   "outputs": [],
   "source": [
    "import tensorflow as tf\n",
    "from tensorflow.keras.models import Sequential\n",
    "from tensorflow.keras.layers import Dense, Activation\n",
    "from tensorflow.keras.optimizers import Adam,SGD"
   ]
  },
  {
   "cell_type": "markdown",
   "metadata": {},
   "source": [
    "<h3>2 layer model</h3>"
   ]
  },
  {
   "cell_type": "code",
   "execution_count": 10,
   "metadata": {},
   "outputs": [],
   "source": [
    "# création du modèle\n",
    "# on instance l'objet sequential\n",
    "model = Sequential()\n",
    "# add the first layer :\n",
    "x = int(input(\"entrer le nombre de colonnes sans label\"))\n",
    "model.add(Dense(units = x, activation=\"softmax\"))\n",
    "\n",
    "y = int(input(\"entrer combien de sortie vous en avez besoin\"))\n",
    "model.add(Dense(units = y, activation = \"softmax\"))\n",
    "\n",
    "# compile the model\n",
    "# binary cross entropy : 2 classes in the output `| categorical cross entropy : >2 classes in the output `\n",
    "model.compile(optimizer=SGD(learning_rate=0.1),loss='binary_crossentropy / categorical_crossentropy',metrics=[\"accuracy\"])\n",
    "## or\n",
    "model.compile(optimizer=Adam(),loss='binary_crossentropy / categorical_crossentropy',metrics=[\"accuracy\"])"
   ]
  },
  {
   "cell_type": "code",
   "execution_count": null,
   "metadata": {},
   "outputs": [],
   "source": [
    "# Training Model\n",
    "model.fit(x=X_train, \n",
    "          y=y_train, \n",
    "          epochs=600,\n",
    "          validation_data=(X_test, y_test), \n",
    "          verbose=0,\n",
    "        )"
   ]
  },
  {
   "cell_type": "code",
   "execution_count": null,
   "metadata": {},
   "outputs": [],
   "source": [
    "# get the used metrics\n",
    "model.metrics_names\n",
    "# check loss values during training and testing in a graph of plot\n",
    "model_loss = pd.DataFrame(model.history.history)\n",
    "model_loss.plot()\n",
    "# get the score of loss function on a set of data\n",
    "training_score = model.evaluate(X_train,y_train,verbose=0)\n",
    "# plot the training loss / epoch\n",
    "loss = model.history.history['loss']\n",
    "sns.lineplot(x=range(len(loss)),y=loss)\n",
    "plt.title(\"Training Loss per Epoch\")"
   ]
  },
  {
   "cell_type": "code",
   "execution_count": null,
   "metadata": {},
   "outputs": [],
   "source": [
    "# predict with the model :\n",
    "test_predictions = model.predict(X_test)"
   ]
  },
  {
   "cell_type": "code",
   "execution_count": null,
   "metadata": {},
   "outputs": [],
   "source": [
    "# saving model\n",
    "model.save('my_model.h5')  # creates a HDF5 file 'my_model.h5'"
   ]
  },
  {
   "cell_type": "code",
   "execution_count": 2,
   "metadata": {},
   "outputs": [],
   "source": [
    "# load model\n",
    "from tensorflow.keras.models import load_model\n",
    "#later_model = load_model('my_model.h5')"
   ]
  },
  {
   "cell_type": "markdown",
   "metadata": {},
   "source": [
    "<h3>Multi-couche perceptron</h3>\n",
    "<h4>Like 1 layer perceptron, difference we can add more layers</h4>"
   ]
  },
  {
   "cell_type": "code",
   "execution_count": null,
   "metadata": {},
   "outputs": [],
   "source": [
    "# création du modèle\n",
    "# on instance l'objet sequential\n",
    "model = Sequential()\n",
    "# add the first layer :\n",
    "x = int(input(\"entrer le nombre de colonnes sans label\"))\n",
    "model.add(Dense(units = x, activation=\"softmax / sigmoid \"))\n",
    "\n",
    "y = int(input(\"entrer combien de sortie vous en avez besoin\"))\n",
    "model.add(Dense(units = y, activation = \"softmax / sigmoid \"))\n",
    "\n",
    "# add other layers\n",
    "\n",
    "# compile the model\n",
    "# binary cross entropy : 2 classes in the output `| categorical cross entropy : >2 classes in the output `\n",
    "model.compile(optimizer=SGD(learning_rate=0.1),loss='binary_crossentropy / categorical_crossentropy',metrics=[\"accuracy\"])\n",
    "## or\n",
    "model.compile(optimizer=Adam(),loss='binary_crossentropy / categorical_crossentropy',metrics=[\"accuracy\"])"
   ]
  },
  {
   "cell_type": "code",
   "execution_count": null,
   "metadata": {},
   "outputs": [],
   "source": [
    "# Training Model\n",
    "model.fit(x=X_train, \n",
    "          y=y_train, \n",
    "          epochs=600,\n",
    "          validation_data=(X_test, y_test), \n",
    "          verbose=0,\n",
    "        )"
   ]
  },
  {
   "cell_type": "code",
   "execution_count": null,
   "metadata": {},
   "outputs": [],
   "source": [
    "# get the used metrics\n",
    "model.metrics_names\n",
    "# check loss values during training and testing in a graph of plot\n",
    "model_loss = pd.DataFrame(model.history.history)\n",
    "model_loss.plot()\n",
    "# get the score of loss function on a set of data\n",
    "training_score = model.evaluate(X_train,y_train,verbose=0)\n",
    "# plot the training loss / epoch\n",
    "loss = model.history.history['loss']\n",
    "sns.lineplot(x=range(len(loss)),y=loss)\n",
    "plt.title(\"Training Loss per Epoch\")"
   ]
  },
  {
   "cell_type": "code",
   "execution_count": null,
   "metadata": {},
   "outputs": [],
   "source": [
    "# predict with the model :\n",
    "test_predictions = model.predict(X_test)"
   ]
  },
  {
   "cell_type": "code",
   "execution_count": null,
   "metadata": {},
   "outputs": [],
   "source": [
    "# saving model\n",
    "model.save('my_model.h5')  # creates a HDF5 file 'my_model.h5'"
   ]
  },
  {
   "cell_type": "code",
   "execution_count": null,
   "metadata": {},
   "outputs": [],
   "source": [
    "# load model\n",
    "from tensorflow.keras.models import load_model\n",
    "later_model = load_model('my_model.h5')"
   ]
  },
  {
   "cell_type": "markdown",
   "metadata": {},
   "source": [
    "<h3> Hopfield </h3>"
   ]
  }
 ],
 "metadata": {
  "kernelspec": {
   "display_name": "Python 3.10.5 64-bit",
   "language": "python",
   "name": "python3"
  },
  "language_info": {
   "codemirror_mode": {
    "name": "ipython",
    "version": 3
   },
   "file_extension": ".py",
   "mimetype": "text/x-python",
   "name": "python",
   "nbconvert_exporter": "python",
   "pygments_lexer": "ipython3",
   "version": "3.10.5"
  },
  "orig_nbformat": 4,
  "vscode": {
   "interpreter": {
    "hash": "2f727661754d63a49ea6023b14d0fe092caecf37ecff4f17295fc5871ecb3635"
   }
  }
 },
 "nbformat": 4,
 "nbformat_minor": 2
}
